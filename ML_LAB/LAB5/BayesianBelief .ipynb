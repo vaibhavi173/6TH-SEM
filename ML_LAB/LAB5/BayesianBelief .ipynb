{
 "cells": [
  {
   "cell_type": "code",
   "execution_count": 4,
   "id": "0dfc9132",
   "metadata": {
    "scrolled": true
   },
   "outputs": [
    {
     "name": "stdout",
     "output_type": "stream",
     "text": [
      "Probability distribution, P(Burglary)\n",
      "+-------------+-------+\n",
      "| Burglary(0) | 0.009 |\n",
      "+-------------+-------+\n",
      "| Burglary(1) | 0.991 |\n",
      "+-------------+-------+\n",
      "\n",
      "Probability distribution, P(Earthquake)\n",
      "+---------------+-------+\n",
      "| Earthquake(0) | 0.002 |\n",
      "+---------------+-------+\n",
      "| Earthquake(1) | 0.998 |\n",
      "+---------------+-------+\n",
      "\n",
      "Joint probability distribution, P(Alarm | Burglary, Earthquake)\n",
      "+------------+---------------+---------------+---------------+---------------+\n",
      "| Burglary   | Burglary(0)   | Burglary(0)   | Burglary(1)   | Burglary(1)   |\n",
      "+------------+---------------+---------------+---------------+---------------+\n",
      "| Earthquake | Earthquake(0) | Earthquake(1) | Earthquake(0) | Earthquake(1) |\n",
      "+------------+---------------+---------------+---------------+---------------+\n",
      "| Alarm(0)   | 0.95          | 0.94          | 0.29          | 0.001         |\n",
      "+------------+---------------+---------------+---------------+---------------+\n",
      "| Alarm(1)   | 0.05          | 0.06          | 0.71          | 0.999         |\n",
      "+------------+---------------+---------------+---------------+---------------+\n",
      "\n",
      "Joint probability distribution, P(JohnCalls | Alarm)\n",
      "+--------------+----------+----------+\n",
      "| Alarm        | Alarm(0) | Alarm(1) |\n",
      "+--------------+----------+----------+\n",
      "| JohnCalls(0) | 0.9      | 0.05     |\n",
      "+--------------+----------+----------+\n",
      "| JohnCalls(1) | 0.1      | 0.95     |\n",
      "+--------------+----------+----------+\n",
      "\n",
      "Joint probability distribution, P(MaryCalls | Alarm)\n",
      "+--------------+----------+----------+\n",
      "| Alarm        | Alarm(0) | Alarm(1) |\n",
      "+--------------+----------+----------+\n",
      "| MaryCalls(0) | 0.7      | 0.01     |\n",
      "+--------------+----------+----------+\n",
      "| MaryCalls(1) | 0.3      | 0.99     |\n",
      "+--------------+----------+----------+\n",
      "\n"
     ]
    },
    {
     "data": {
      "application/vnd.jupyter.widget-view+json": {
       "model_id": "abef50fdcdd141c7a70349b34cfacd1d",
       "version_major": 2,
       "version_minor": 0
      },
      "text/plain": [
       "  0%|          | 0/2 [00:00<?, ?it/s]"
      ]
     },
     "metadata": {},
     "output_type": "display_data"
    },
    {
     "data": {
      "application/vnd.jupyter.widget-view+json": {
       "model_id": "8296d68a0272484ea4b437f717711ef7",
       "version_major": 2,
       "version_minor": 0
      },
      "text/plain": [
       "  0%|          | 0/2 [00:00<?, ?it/s]"
      ]
     },
     "metadata": {},
     "output_type": "display_data"
    },
    {
     "name": "stdout",
     "output_type": "stream",
     "text": [
      "Posterior probability of Burglary if JohnCalls(True) and MaryCalls(True)\n",
      "+-------------+-----------------+\n",
      "| Burglary    |   phi(Burglary) |\n",
      "+=============+=================+\n",
      "| Burglary(0) |          0.7827 |\n",
      "+-------------+-----------------+\n",
      "| Burglary(1) |          0.2173 |\n",
      "+-------------+-----------------+\n",
      "\n"
     ]
    },
    {
     "data": {
      "application/vnd.jupyter.widget-view+json": {
       "model_id": "d112da743b7845cf908905622c7bdbf7",
       "version_major": 2,
       "version_minor": 0
      },
      "text/plain": [
       "0it [00:00, ?it/s]"
      ]
     },
     "metadata": {},
     "output_type": "display_data"
    },
    {
     "data": {
      "application/vnd.jupyter.widget-view+json": {
       "model_id": "0732c345e1f9422897c5d4c8daa4ddfd",
       "version_major": 2,
       "version_minor": 0
      },
      "text/plain": [
       "0it [00:00, ?it/s]"
      ]
     },
     "metadata": {},
     "output_type": "display_data"
    },
    {
     "name": "stdout",
     "output_type": "stream",
     "text": [
      "Posterior probability of Alarm sounding if Burglary(True) and Earthquake(True)\n",
      "+----------+--------------+\n",
      "| Alarm    |   phi(Alarm) |\n",
      "+==========+==============+\n",
      "| Alarm(0) |       0.9500 |\n",
      "+----------+--------------+\n",
      "| Alarm(1) |       0.0500 |\n",
      "+----------+--------------+\n",
      "\n"
     ]
    },
    {
     "data": {
      "application/vnd.jupyter.widget-view+json": {
       "model_id": "6d5f8ede91c345789a9714926bdd2566",
       "version_major": 2,
       "version_minor": 0
      },
      "text/plain": [
       "0it [00:00, ?it/s]"
      ]
     },
     "metadata": {},
     "output_type": "display_data"
    },
    {
     "data": {
      "application/vnd.jupyter.widget-view+json": {
       "model_id": "2d7db97e76c34d0b8d87d814cd907e3f",
       "version_major": 2,
       "version_minor": 0
      },
      "text/plain": [
       "0it [00:00, ?it/s]"
      ]
     },
     "metadata": {},
     "output_type": "display_data"
    },
    {
     "name": "stdout",
     "output_type": "stream",
     "text": [
      "Posterior probability of Alarm sounding if Burglary(False) and Earthquake(True)\n",
      "+----------+--------------+\n",
      "| Alarm    |   phi(Alarm) |\n",
      "+==========+==============+\n",
      "| Alarm(0) |       0.2900 |\n",
      "+----------+--------------+\n",
      "| Alarm(1) |       0.7100 |\n",
      "+----------+--------------+\n",
      "\n"
     ]
    }
   ],
   "source": [
    "import pgmpy.models\n",
    "import pgmpy.inference\n",
    "import networkx as nx\n",
    "import pylab as plt\n",
    "# Create a bayesian network\n",
    "model = pgmpy.models.BayesianModel([('Burglary', 'Alarm'),\n",
    "                                    ('Earthquake', 'Alarm'),\n",
    "                                    ('Alarm', 'JohnCalls'),\n",
    "                                    ('Alarm', 'MaryCalls')])\n",
    "\n",
    "cpd_burglary = pgmpy.factors.discrete.TabularCPD('Burglary', 2, [[0.009], [0.991]])\n",
    "\n",
    "cpd_earthquake = pgmpy.factors.discrete.TabularCPD('Earthquake', 2, [[0.002], [0.998]])\n",
    "\n",
    "cpd_alarm = pgmpy.factors.discrete.TabularCPD('Alarm', 2, [[0.95, 0.94, 0.29, 0.001],\n",
    "                                                           [0.05, 0.06, 0.71, 0.999]],\n",
    "                                              evidence=['Burglary', 'Earthquake'],\n",
    "                                              evidence_card=[2, 2])\n",
    "\n",
    "cpd_john = pgmpy.factors.discrete.TabularCPD('JohnCalls', 2, [[0.90, 0.05],\n",
    "                                                           [0.10, 0.95]],\n",
    "                                              evidence=['Alarm'],\n",
    "                                              evidence_card=[2])\n",
    "\n",
    "cpd_mary = pgmpy.factors.discrete.TabularCPD('MaryCalls', 2, [[0.70, 0.01],\n",
    "                                                           [0.30, 0.99]],\n",
    "                                              evidence=['Alarm'],\n",
    "                                              evidence_card=[2])\n",
    "\n",
    "model.add_cpds(cpd_burglary, cpd_earthquake, cpd_alarm, cpd_john, cpd_mary)\n",
    "\n",
    "model.check_model()\n",
    "\n",
    "print('Probability distribution, P(Burglary)')\n",
    "print(cpd_burglary)\n",
    "print()\n",
    "print('Probability distribution, P(Earthquake)')\n",
    "print(cpd_earthquake)\n",
    "print()\n",
    "print('Joint probability distribution, P(Alarm | Burglary, Earthquake)')\n",
    "print(cpd_alarm)\n",
    "print()\n",
    "print('Joint probability distribution, P(JohnCalls | Alarm)')\n",
    "print(cpd_john)\n",
    "print()\n",
    "print('Joint probability distribution, P(MaryCalls | Alarm)')\n",
    "print(cpd_mary)\n",
    "print()\n",
    "\n",
    "nx.draw(model, with_labels=True)\n",
    "plt.savefig('C:\\\\Users\\\\admin\\\\Desktop')\n",
    "plt.close()\n",
    "\n",
    "infer = pgmpy.inference.VariableElimination(model)\n",
    "\n",
    "posterior_probability = infer.query(['Burglary'], evidence={'JohnCalls': 0, 'MaryCalls': 0})\n",
    "print('Posterior probability of Burglary if JohnCalls(True) and MaryCalls(True)')\n",
    "print(posterior_probability)\n",
    "print()\n",
    "\n",
    "posterior_probability = infer.query(['Alarm'], evidence={'Burglary': 0, 'Earthquake': 0})\n",
    "print('Posterior probability of Alarm sounding if Burglary(True) and Earthquake(True)')\n",
    "print(posterior_probability)\n",
    "print()\n",
    "\n",
    "posterior_probability = infer.query(['Alarm'], evidence={'Burglary': 1, 'Earthquake': 0})\n",
    "print('Posterior probability of Alarm sounding if Burglary(False) and Earthquake(True)')\n",
    "print(posterior_probability)\n",
    "print()"
   ]
  },
  {
   "cell_type": "code",
   "execution_count": null,
   "id": "474a3dd7",
   "metadata": {},
   "outputs": [],
   "source": []
  },
  {
   "cell_type": "code",
   "execution_count": null,
   "id": "40b39ec7",
   "metadata": {},
   "outputs": [],
   "source": []
  }
 ],
 "metadata": {
  "kernelspec": {
   "display_name": "Python 3 (ipykernel)",
   "language": "python",
   "name": "python3"
  },
  "language_info": {
   "codemirror_mode": {
    "name": "ipython",
    "version": 3
   },
   "file_extension": ".py",
   "mimetype": "text/x-python",
   "name": "python",
   "nbconvert_exporter": "python",
   "pygments_lexer": "ipython3",
   "version": "3.9.7"
  }
 },
 "nbformat": 4,
 "nbformat_minor": 5
}
